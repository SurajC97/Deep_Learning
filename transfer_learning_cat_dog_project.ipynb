{
  "nbformat": 4,
  "nbformat_minor": 0,
  "metadata": {
    "accelerator": "GPU",
    "colab": {
      "name": "transfer_learning_cat_dog_project.ipynb",
      "provenance": [],
      "collapsed_sections": []
    },
    "kernelspec": {
      "display_name": "Python 3",
      "name": "python3"
    },
    "language_info": {
      "name": "python"
    }
  },
  "cells": [
    {
      "cell_type": "code",
      "metadata": {
        "id": "r35tv89J8TnY"
      },
      "source": [
        "from google.colab import drive\n",
        "drive.mount('/content/drive')"
      ],
      "execution_count": null,
      "outputs": []
    },
    {
      "cell_type": "code",
      "metadata": {
        "id": "HZQOAbjGKaOA"
      },
      "source": [
        "# changing location to my drive\n",
        "!cd /content/drive/MyDrive"
      ],
      "execution_count": null,
      "outputs": []
    },
    {
      "cell_type": "markdown",
      "metadata": {
        "id": "kMbZQlQQPsba"
      },
      "source": [
        "Extracting files from zip"
      ]
    },
    {
      "cell_type": "code",
      "metadata": {
        "id": "dv5JZmC-MIDU"
      },
      "source": [
        "from zipfile import ZipFile\n",
        "\n",
        "with ZipFile('/content/drive/MyDrive/dogs-vs-cats.zip','r') as zipobj:\n",
        "  # extract all the content of zip file in current directory.\n",
        "  zipobj.extractall()\n",
        "\n",
        "with ZipFile('train.zip','r') as zipobj:\n",
        "  # extract all the content of zip file in current directory.\n",
        "  zipobj.extractall()\n",
        "\n",
        "with ZipFile('test1.zip','r') as zipobj:\n",
        "  # extract all the content of zip file in current directory.\n",
        "  zipobj.extractall()"
      ],
      "execution_count": null,
      "outputs": []
    },
    {
      "cell_type": "markdown",
      "metadata": {
        "id": "wpYim3VQTAZj"
      },
      "source": [
        "Creating sub directories"
      ]
    },
    {
      "cell_type": "code",
      "metadata": {
        "id": "HR9IRAb8P1ND"
      },
      "source": [
        "# create directories\n",
        "from os import makedirs\n",
        "dataset_home='dataset_dogs_vs_cats/'\n",
        "subdirs=['train/','test/']\n",
        "for subdir in subdirs:\n",
        "  #create label subdirectories\n",
        "  labeldirs= ['dogs/','cats/']\n",
        "  for labldir in labeldirs:\n",
        "    newdir= dataset_home + subdir + labldir\n",
        "    makedirs(newdir,exist_ok=True)"
      ],
      "execution_count": null,
      "outputs": []
    },
    {
      "cell_type": "markdown",
      "metadata": {
        "id": "hF4x5dcqUF3e"
      },
      "source": [
        "Changing the dataset to fit this format."
      ]
    },
    {
      "cell_type": "code",
      "metadata": {
        "id": "2FXKvxcjP1Zo"
      },
      "source": [
        "from os import makedirs\n",
        "from os import listdir\n",
        "from shutil import copyfile\n",
        "#create directories\n",
        "from random import seed, random\n",
        "seed(1)\n",
        "# % of pictures to use for validation\n",
        "val_ratio=0.25\n",
        "# copying images data into the created subdirectories\n",
        "src_directory= 'train'\n",
        "dataset_home='dataset_dogs_vs_cats/'\n",
        "for file in listdir(src_directory):\n",
        "  src= src_directory + '/'+ file\n",
        "  dst_dir='train/'\n",
        "  if random()< val_ratio: # to randomly divide images to the train and test folders.\n",
        "    dst_dir='test/'\n",
        "  if file.startswith('cat'):\n",
        "    dst= dataset_home + dst_dir + 'cats/'+ file\n",
        "    copyfile(src,dst)\n",
        "  elif file.startswith('dog'):\n",
        "    dst= dataset_home + dst_dir + 'dogs/'+ file\n",
        "    copyfile(src,dst)"
      ],
      "execution_count": null,
      "outputs": []
    },
    {
      "cell_type": "markdown",
      "metadata": {
        "id": "4_fAm5rBV6Zp"
      },
      "source": [
        "Prepare a model for transfer learning"
      ]
    },
    {
      "cell_type": "code",
      "metadata": {
        "colab": {
          "base_uri": "https://localhost:8080/"
        },
        "id": "njYQDRXNP1ck",
        "outputId": "a76178e3-ca85-43fd-c6b8-1e20b013a5c7"
      },
      "source": [
        "from keras.applications.vgg16 import VGG16\n",
        "from keras.models import Model\n",
        "from keras.layers import Dense\n",
        "from keras.layers import Flatten\n",
        "from tensorflow.keras.optimizers import SGD\n",
        "from keras.preprocessing.image import ImageDataGenerator\n",
        "\n",
        "model= VGG16(include_top=False, input_shape=(224,224,3)) # false value means dont include the layers present after the flaten layer, those layers will be trained by me. it signifies that we are doing transfer learning.\n",
        "\n",
        "# mark loaded layers as not trainable(i.e layers before the flatten layer)\n",
        "for layer in model.layers:\n",
        "  layer.trainable=False\n",
        "\n",
        "# add new classifier layers\n",
        "flat1= Flatten()(model.layers[-1].output)\n",
        "class1= Dense(128,activation ='relu', kernel_initializer='he_uniform')(flat1)\n",
        "output= Dense(1, activation='sigmoid')(class1)\n",
        "\n",
        "# define new model\n",
        "model= Model(inputs=model.inputs, outputs=output)\n",
        "\n",
        "#compile model\n",
        "opt= SGD(learning_rate=0.001, momentum=0.9)\n",
        "model.compile(optimizer=opt, loss='binary_crossentropy', metrics=['accuracy'])"
      ],
      "execution_count": null,
      "outputs": [
        {
          "output_type": "stream",
          "name": "stdout",
          "text": [
            "Downloading data from https://storage.googleapis.com/tensorflow/keras-applications/vgg16/vgg16_weights_tf_dim_ordering_tf_kernels_notop.h5\n",
            "58892288/58889256 [==============================] - 1s 0us/step\n",
            "58900480/58889256 [==============================] - 1s 0us/step\n"
          ]
        }
      ]
    },
    {
      "cell_type": "markdown",
      "metadata": {
        "id": "pzuiI40zYGZB"
      },
      "source": [
        "Run the model using generator"
      ]
    },
    {
      "cell_type": "code",
      "metadata": {
        "colab": {
          "base_uri": "https://localhost:8080/"
        },
        "id": "IUiFg-z9P1lH",
        "outputId": "423fd40b-e2a2-41c0-b8c9-d59b276dd3cb"
      },
      "source": [
        "datagen= ImageDataGenerator(featurewise_center=True) # generator helps loading images into RAM in batches.\n",
        "# specify imagenet mean values for centering\n",
        "datagen.mean=[123.68,116.779,103.939]\n",
        "#prepare iterator by taking all images from directory in batches.\n",
        "train_it= datagen.flow_from_directory('dataset_dogs_vs_cats/train/',\n",
        "                                      class_mode='binary', batch_size=64, target_size=(224,224))\n",
        "test_it= datagen.flow_from_directory('dataset_dogs_vs_cats/test/',\n",
        "                                      class_mode='binary', batch_size=64, target_size=(224,224))\n",
        "# fit model\n",
        "history= model.fit_generator(train_it, steps_per_epoch= len(train_it), validation_data= test_it,\n",
        "                             validation_steps=len(test_it), epochs=5, verbose=1)"
      ],
      "execution_count": null,
      "outputs": [
        {
          "output_type": "stream",
          "name": "stdout",
          "text": [
            "Found 18697 images belonging to 2 classes.\n",
            "Found 6303 images belonging to 2 classes.\n"
          ]
        },
        {
          "output_type": "stream",
          "name": "stderr",
          "text": [
            "/usr/local/lib/python3.7/dist-packages/keras/engine/training.py:1972: UserWarning: `Model.fit_generator` is deprecated and will be removed in a future version. Please use `Model.fit`, which supports generators.\n",
            "  warnings.warn('`Model.fit_generator` is deprecated and '\n"
          ]
        },
        {
          "output_type": "stream",
          "name": "stdout",
          "text": [
            "Epoch 1/5\n",
            "293/293 [==============================] - 239s 665ms/step - loss: 0.3563 - accuracy: 0.9604 - val_loss: 0.0737 - val_accuracy: 0.9716\n",
            "Epoch 2/5\n",
            "293/293 [==============================] - 181s 616ms/step - loss: 0.0310 - accuracy: 0.9891 - val_loss: 0.0665 - val_accuracy: 0.9760\n",
            "Epoch 3/5\n",
            "293/293 [==============================] - 181s 616ms/step - loss: 0.0113 - accuracy: 0.9964 - val_loss: 0.0791 - val_accuracy: 0.9748\n",
            "Epoch 4/5\n",
            "293/293 [==============================] - 181s 617ms/step - loss: 0.0039 - accuracy: 0.9991 - val_loss: 0.0893 - val_accuracy: 0.9756\n",
            "Epoch 5/5\n",
            "293/293 [==============================] - 181s 618ms/step - loss: 0.0016 - accuracy: 0.9998 - val_loss: 0.0969 - val_accuracy: 0.9756\n"
          ]
        }
      ]
    },
    {
      "cell_type": "markdown",
      "metadata": {
        "id": "pYq_pXOVaM_5"
      },
      "source": [
        "Plot the loss and accuracy"
      ]
    },
    {
      "cell_type": "code",
      "metadata": {
        "colab": {
          "base_uri": "https://localhost:8080/",
          "height": 281
        },
        "id": "gkVE8e-MP1uu",
        "outputId": "8a3bcffd-cb44-408a-b740-b79fcc192f57"
      },
      "source": [
        "import matplotlib.pyplot as pyplot\n",
        "import sys\n",
        "pyplot. subplot (211)\n",
        "pyplot.title('Cross Entropy LOSS')\n",
        "pyplot.plot(history.history['loss'], color='blue', label='train')\n",
        "pyplot.plot(history.history['val_loss'], color='orange', label='test')\n",
        "# plot accuracy\n",
        "pyplot. subplot(212)\n",
        "pyplot.title('Classification Accuracy')\n",
        "pyplot.plot(history.history['accuracy'], color='blue', label='train')\n",
        "pyplot.plot(history.history['val_accuracy'], color='orange', label='test')\n",
        "#save plot to file\n",
        "filename = sys.argv[0].split('/')[-1]\n",
        "pyplot.savefig(filename + '_plot.png')"
      ],
      "execution_count": null,
      "outputs": [
        {
          "output_type": "display_data",
          "data": {
            "image/png": "[encoded data removed]",
            "text/plain": [
              "<Figure size 432x288 with 2 Axes>"
            ]
          },
          "metadata": {
            "needs_background": "light"
          }
        }
      ]
    },
    {
      "cell_type": "markdown",
      "metadata": {
        "id": "AwVM6TAgeOCY"
      },
      "source": [
        "Saving the model"
      ]
    },
    {
      "cell_type": "code",
      "metadata": {
        "id": "gMzlQQlyP1xs"
      },
      "source": [
        "model.save('/content/drive/MyDrive/cat_dog_model.h5')"
      ],
      "execution_count": null,
      "outputs": []
    },
    {
      "cell_type": "code",
      "metadata": {
        "colab": {
          "base_uri": "https://localhost:8080/",
          "height": 323
        },
        "id": "ynswvQk-Gmxv",
        "outputId": "a31da006-525d-493e-8353-5cedf20f8152"
      },
      "source": [
        "from keras.models import load_model\n",
        "model = load_model('cat_dog_model.h5')"
      ],
      "execution_count": null,
      "outputs": [
        {
          "output_type": "error",
          "ename": "OSError",
          "evalue": "ignored",
          "traceback": [
            "\u001b[0;31m---------------------------------------------------------------------------\u001b[0m",
            "\u001b[0;31mOSError\u001b[0m                                   Traceback (most recent call last)",
            "\u001b[0;32m<ipython-input-3-07c565d9f488>\u001b[0m in \u001b[0;36m<module>\u001b[0;34m()\u001b[0m\n\u001b[1;32m      1\u001b[0m \u001b[0;32mfrom\u001b[0m \u001b[0mkeras\u001b[0m\u001b[0;34m.\u001b[0m\u001b[0mmodels\u001b[0m \u001b[0;32mimport\u001b[0m \u001b[0mload_model\u001b[0m\u001b[0;34m\u001b[0m\u001b[0;34m\u001b[0m\u001b[0m\n\u001b[0;32m----> 2\u001b[0;31m \u001b[0mmodel\u001b[0m \u001b[0;34m=\u001b[0m \u001b[0mload_model\u001b[0m\u001b[0;34m(\u001b[0m\u001b[0;34m'cat_dog_model.h5'\u001b[0m\u001b[0;34m)\u001b[0m\u001b[0;34m\u001b[0m\u001b[0;34m\u001b[0m\u001b[0m\n\u001b[0m",
            "\u001b[0;32m/usr/local/lib/python3.7/dist-packages/keras/saving/save.py\u001b[0m in \u001b[0;36mload_model\u001b[0;34m(filepath, custom_objects, compile, options)\u001b[0m\n\u001b[1;32m    203\u001b[0m         \u001b[0mfilepath\u001b[0m \u001b[0;34m=\u001b[0m \u001b[0mpath_to_string\u001b[0m\u001b[0;34m(\u001b[0m\u001b[0mfilepath\u001b[0m\u001b[0;34m)\u001b[0m\u001b[0;34m\u001b[0m\u001b[0;34m\u001b[0m\u001b[0m\n\u001b[1;32m    204\u001b[0m         \u001b[0;32mif\u001b[0m \u001b[0misinstance\u001b[0m\u001b[0;34m(\u001b[0m\u001b[0mfilepath\u001b[0m\u001b[0;34m,\u001b[0m \u001b[0mstr\u001b[0m\u001b[0;34m)\u001b[0m\u001b[0;34m:\u001b[0m\u001b[0;34m\u001b[0m\u001b[0;34m\u001b[0m\u001b[0m\n\u001b[0;32m--> 205\u001b[0;31m           \u001b[0;32mreturn\u001b[0m \u001b[0msaved_model_load\u001b[0m\u001b[0;34m.\u001b[0m\u001b[0mload\u001b[0m\u001b[0;34m(\u001b[0m\u001b[0mfilepath\u001b[0m\u001b[0;34m,\u001b[0m \u001b[0mcompile\u001b[0m\u001b[0;34m,\u001b[0m \u001b[0moptions\u001b[0m\u001b[0;34m)\u001b[0m\u001b[0;34m\u001b[0m\u001b[0;34m\u001b[0m\u001b[0m\n\u001b[0m\u001b[1;32m    206\u001b[0m \u001b[0;34m\u001b[0m\u001b[0m\n\u001b[1;32m    207\u001b[0m   raise IOError(\n",
            "\u001b[0;32m/usr/local/lib/python3.7/dist-packages/keras/saving/saved_model/load.py\u001b[0m in \u001b[0;36mload\u001b[0;34m(path, compile, options)\u001b[0m\n\u001b[1;32m    106\u001b[0m   \u001b[0;31m# Look for metadata file or parse the SavedModel\u001b[0m\u001b[0;34m\u001b[0m\u001b[0;34m\u001b[0m\u001b[0;34m\u001b[0m\u001b[0m\n\u001b[1;32m    107\u001b[0m   \u001b[0mmetadata\u001b[0m \u001b[0;34m=\u001b[0m \u001b[0msaved_metadata_pb2\u001b[0m\u001b[0;34m.\u001b[0m\u001b[0mSavedMetadata\u001b[0m\u001b[0;34m(\u001b[0m\u001b[0;34m)\u001b[0m\u001b[0;34m\u001b[0m\u001b[0;34m\u001b[0m\u001b[0m\n\u001b[0;32m--> 108\u001b[0;31m   \u001b[0mmeta_graph_def\u001b[0m \u001b[0;34m=\u001b[0m \u001b[0mtf\u001b[0m\u001b[0;34m.\u001b[0m\u001b[0m__internal__\u001b[0m\u001b[0;34m.\u001b[0m\u001b[0msaved_model\u001b[0m\u001b[0;34m.\u001b[0m\u001b[0mparse_saved_model\u001b[0m\u001b[0;34m(\u001b[0m\u001b[0mpath\u001b[0m\u001b[0;34m)\u001b[0m\u001b[0;34m.\u001b[0m\u001b[0mmeta_graphs\u001b[0m\u001b[0;34m[\u001b[0m\u001b[0;36m0\u001b[0m\u001b[0;34m]\u001b[0m\u001b[0;34m\u001b[0m\u001b[0;34m\u001b[0m\u001b[0m\n\u001b[0m\u001b[1;32m    109\u001b[0m   \u001b[0mobject_graph_def\u001b[0m \u001b[0;34m=\u001b[0m \u001b[0mmeta_graph_def\u001b[0m\u001b[0;34m.\u001b[0m\u001b[0mobject_graph_def\u001b[0m\u001b[0;34m\u001b[0m\u001b[0;34m\u001b[0m\u001b[0m\n\u001b[1;32m    110\u001b[0m   \u001b[0mpath_to_metadata_pb\u001b[0m \u001b[0;34m=\u001b[0m \u001b[0mos\u001b[0m\u001b[0;34m.\u001b[0m\u001b[0mpath\u001b[0m\u001b[0;34m.\u001b[0m\u001b[0mjoin\u001b[0m\u001b[0;34m(\u001b[0m\u001b[0mpath\u001b[0m\u001b[0;34m,\u001b[0m \u001b[0mconstants\u001b[0m\u001b[0;34m.\u001b[0m\u001b[0mSAVED_METADATA_PATH\u001b[0m\u001b[0;34m)\u001b[0m\u001b[0;34m\u001b[0m\u001b[0;34m\u001b[0m\u001b[0m\n",
            "\u001b[0;32m/usr/local/lib/python3.7/dist-packages/tensorflow/python/saved_model/loader_impl.py\u001b[0m in \u001b[0;36mparse_saved_model\u001b[0;34m(export_dir)\u001b[0m\n\u001b[1;32m    119\u001b[0m         \u001b[0;34m\"SavedModel file does not exist at: %s%s{%s|%s}\"\u001b[0m \u001b[0;34m%\u001b[0m\u001b[0;34m\u001b[0m\u001b[0;34m\u001b[0m\u001b[0m\n\u001b[1;32m    120\u001b[0m         (export_dir, os.path.sep, constants.SAVED_MODEL_FILENAME_PBTXT,\n\u001b[0;32m--> 121\u001b[0;31m          constants.SAVED_MODEL_FILENAME_PB))\n\u001b[0m\u001b[1;32m    122\u001b[0m \u001b[0;34m\u001b[0m\u001b[0m\n\u001b[1;32m    123\u001b[0m \u001b[0;34m\u001b[0m\u001b[0m\n",
            "\u001b[0;31mOSError\u001b[0m: SavedModel file does not exist at: cat_dog_model.h5/{saved_model.pbtxt|saved_model.pb}"
          ]
        }
      ]
    },
    {
      "cell_type": "markdown",
      "metadata": {
        "id": "i0u5KZzFeXOh"
      },
      "source": [
        "Predict output from the model"
      ]
    },
    {
      "cell_type": "code",
      "metadata": {
        "id": "u4wYr8dMP10B"
      },
      "source": [
        "from keras.preprocessing.image import load_img\n",
        "from keras.preprocessing.image import img_to_array\n",
        "from keras.models import load_model\n",
        "# load and prepare the image\n",
        "#load the image\n",
        "img = load_img('/content/dataset_dogs_vs_cats/test/dogs/dog.100.jpg', target_size=(224, 224))\n",
        "# convert to array\n",
        "img = img_to_array(img)\n",
        "# reshape into a single sample with 3 channels\n",
        "img = img.reshape(1, 224, 224, 3)\n",
        "# center pixel data\n",
        "img = img.astype('float32')\n",
        "img = img - [123.68, 116.779, 193.939] # subtracting the data generator mean from it."
      ],
      "execution_count": null,
      "outputs": []
    },
    {
      "cell_type": "code",
      "metadata": {
        "colab": {
          "base_uri": "https://localhost:8080/"
        },
        "id": "b5lHIGDuP12Z",
        "outputId": "3eb50253-81a6-4ee0-8c8a-ecba9440b1bb"
      },
      "source": [
        "#1 is for dogs and 0 for cats\n",
        "result = model.predict(img)\n",
        "print (result[0])\n"
      ],
      "execution_count": null,
      "outputs": [
        {
          "output_type": "stream",
          "name": "stdout",
          "text": [
            "[1.]\n"
          ]
        }
      ]
    },
    {
      "cell_type": "code",
      "metadata": {
        "id": "XfVe6RDTP158"
      },
      "source": [
        ""
      ],
      "execution_count": null,
      "outputs": []
    },
    {
      "cell_type": "code",
      "metadata": {
        "id": "YUY3UKxOP19f"
      },
      "source": [
        ""
      ],
      "execution_count": null,
      "outputs": []
    },
    {
      "cell_type": "code",
      "metadata": {
        "id": "88RDQHz_P2Aj"
      },
      "source": [
        ""
      ],
      "execution_count": null,
      "outputs": []
    },
    {
      "cell_type": "code",
      "metadata": {
        "id": "tU7Du81VP2CS"
      },
      "source": [
        ""
      ],
      "execution_count": null,
      "outputs": []
    },
    {
      "cell_type": "code",
      "metadata": {
        "id": "2HwqqzAYP2FW"
      },
      "source": [
        ""
      ],
      "execution_count": null,
      "outputs": []
    }
  ]
}